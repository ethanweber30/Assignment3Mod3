{
 "cells": [
  {
   "cell_type": "code",
   "execution_count": null,
   "id": "1d0a6fc1-91e2-42b1-8d63-58aaff290bb1",
   "metadata": {},
   "outputs": [],
   "source": [
    "import pandas as pd\n",
    "from sklearn.feature_extraction.text import TfidfVectorizer\n",
    "from sklearn.metrics.pairwise import cosine_similarity"
   ]
  },
  {
   "cell_type": "code",
   "execution_count": null,
   "id": "477eebdf-c9de-4934-bed9-762fc9d913b4",
   "metadata": {},
   "outputs": [],
   "source": [
    "df = pd.read_csv('imdb_top_1000.csv')"
   ]
  },
  {
   "cell_type": "code",
   "execution_count": null,
   "id": "0604840a-4a12-447f-a97d-03435a94331a",
   "metadata": {},
   "outputs": [],
   "source": [
    "def calculate_cosine_similarity(data):\n",
    "    tfidf_vectorizer = TfidfVectorizer(stop_words='english')\n",
    "    tfidf_matrix = tfidf_vectorizer.fit_transform(data)\n",
    "    cosine_similarities = cosine_similarity(tfidf_matrix, tfidf_matrix)\n",
    "    return cosine_similarities\n",
    "\n",
    "def find_top_similar(query_index, cosine_similarities, N=10):\n",
    "    similar_indices = cosine_similarities[query_index].argsort()[:-N-1:-1]\n",
    "    return similar_indices"
   ]
  },
  {
   "cell_type": "code",
   "execution_count": null,
   "id": "fede57cb-3569-4e66-b320-7d3016aef48f",
   "metadata": {},
   "outputs": [],
   "source": [
    "query_entities = [\"Action Movies with High Ratings\", \"Classic Comedies\", \"Epic Films with Long Runtimes\"]\n",
    "\n",
    "features_to_use = ['Runtime', 'IMDB_Rating', 'Meta_score']\n",
    "\n",
    "df['Combined_Features'] = df[features_to_use].astype(str).agg(' '.join, axis=1)\n",
    "\n",
    "cosine_similarities = calculate_cosine_similarity(df['Combined_Features'])\n"
   ]
  },
  {
   "cell_type": "code",
   "execution_count": null,
   "id": "d478dea7-387c-4bfd-a4af-a87721df8ea6",
   "metadata": {},
   "outputs": [],
   "source": [
    "for query in query_entities:\n",
    "    query_index = df[df['Genre'].str.contains(query)].index[0]\n",
    "    similar_indices = find_top_similar(query_index, cosine_similarities)\n",
    "    \n",
    "    print(f\"Top 10 Similar Movies for '{query}':\")\n",
    "    for i, index in enumerate(similar_indices[1:11], 1):  # Exclude the query itself\n",
    "        print(f\"{i}. {df.iloc[index]['Series_Title']} (IMDb: {df.iloc[index]['IMDB_Rating']}, Metascore: {df.iloc[index]['Meta_score']})\")\n"
   ]
  }
 ],
 "metadata": {
  "kernelspec": {
   "display_name": "Python 3 (ipykernel)",
   "language": "python",
   "name": "python3"
  },
  "language_info": {
   "codemirror_mode": {
    "name": "ipython",
    "version": 3
   },
   "file_extension": ".py",
   "mimetype": "text/x-python",
   "name": "python",
   "nbconvert_exporter": "python",
   "pygments_lexer": "ipython3",
   "version": "3.10.2"
  }
 },
 "nbformat": 4,
 "nbformat_minor": 5
}
